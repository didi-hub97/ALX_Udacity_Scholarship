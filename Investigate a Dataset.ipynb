{
 "cells": [
  {
   "cell_type": "markdown",
   "id": "6f567423",
   "metadata": {},
   "source": [
    "## Introduction\n",
    "\n",
    "#### Dataset Description\n",
    "\n",
    "The No_show_appointments dataset is a collection of 100k medical appointment in Brazil, with No_show as the target variable. The purpose of this analysis is to discovers trend amongst patients that showed up for their appointments and those that didn't show up and to possibly predict who is likely to show up for a medical appointment and who wouldn't. The dependent variable is No_show and other observations in the dataset include:\n",
    "\n",
    "* Scheduled date - the date the patient set up an appointment\n",
    "* Age - Age of patient\n",
    "* Neighbourhood - Location of hospital\n",
    "* Hypertension/Alcoholism/Diabetes/Handcap - Different categories of diagnosis\n",
    "* Sms_received - If a patient received an sms notification or not\n",
    "* Scholarship - If a patient is a recipient of the Brasilian scholarship or not\n",
    "\n",
    "\n",
    "##### Question(s) for Analysis\n",
    "Some of the questions this analysis hopes to answer include:\n",
    "\n",
    "1. What factors influence showing up or turning down an appointment - This the major question in this analysis and it will be answered under the following headings:\n",
    "\n",
    " * How can patients be encouraged to to keep their appointments - for this 'SMS_received' will be considered - this question is significant in this analysis as some patients may need moral support to keep up with appointments and they can be encouraged to make to make it to their appointments. This analysis is not only aimed at observing patterns to see which variables affect No-show but to also see how more appointments can be kept.\n",
    " \n",
    " * Does eduation have an impact on response to medical appointment: Generally, education increases\n",
    " knowledge and also refines people. One of the things this analysis seeks to answer is if an increase in education is bringing about a change in how people respond to medical appointments and if increase in the number of scholarship awarded can be increased. \n",
    "This question is relevant in that, it will make possible to be able to if an increase in education will bring about an increase in the number of appointments kept and thus, more persons will have to be educated.\n",
    " \n",
    " \n",
    " * How the different diagnosed patients respond to different diagnosis: Different patients respond to diagnosis differently. One of the things that can affect diagnosis is what a patient was diagnosed with. Thus this analysis will reveal which diagnosis keep more medical appointment. \n",
    "Relevance: When from the analysis we are able to see the category of diagnosis that are less likely to keep appointments, then when a patient is diagnosed with such, then measures to improve turn up for appointments such as SMS for be deployment \n",
    "\n",
    " * Age group and gender that keeps more appointment\n",
    " Relevance: Understanding the various age groups that keep more appointment is very important as to know how to handle the various age groups with different diagnosis."
   ]
  },
  {
   "cell_type": "markdown",
   "id": "624de30e",
   "metadata": {},
   "source": [
    "###### Import necessary libraries"
   ]
  },
  {
   "cell_type": "code",
   "execution_count": 1,
   "id": "cd1c068f",
   "metadata": {},
   "outputs": [],
   "source": [
    "import numpy as np\n",
    "import pandas as pd\n",
    "import matplotlib.pyplot as plt\n",
    "import seaborn as sb\n",
    "%matplotlib inline\n",
    "import datetime"
   ]
  },
  {
   "cell_type": "markdown",
   "id": "bb171ddb",
   "metadata": {},
   "source": [
    "##### Import dataset"
   ]
  },
  {
   "cell_type": "code",
   "execution_count": 2,
   "id": "50ad53ec",
   "metadata": {},
   "outputs": [
    {
     "data": {
      "text/html": [
       "<div>\n",
       "<style scoped>\n",
       "    .dataframe tbody tr th:only-of-type {\n",
       "        vertical-align: middle;\n",
       "    }\n",
       "\n",
       "    .dataframe tbody tr th {\n",
       "        vertical-align: top;\n",
       "    }\n",
       "\n",
       "    .dataframe thead th {\n",
       "        text-align: right;\n",
       "    }\n",
       "</style>\n",
       "<table border=\"1\" class=\"dataframe\">\n",
       "  <thead>\n",
       "    <tr style=\"text-align: right;\">\n",
       "      <th></th>\n",
       "      <th>PatientId</th>\n",
       "      <th>AppointmentID</th>\n",
       "      <th>Gender</th>\n",
       "      <th>ScheduledDay</th>\n",
       "      <th>AppointmentDay</th>\n",
       "      <th>Age</th>\n",
       "      <th>Neighbourhood</th>\n",
       "      <th>Scholarship</th>\n",
       "      <th>Hipertension</th>\n",
       "      <th>Diabetes</th>\n",
       "      <th>Alcoholism</th>\n",
       "      <th>Handcap</th>\n",
       "      <th>SMS_received</th>\n",
       "      <th>No-show</th>\n",
       "    </tr>\n",
       "  </thead>\n",
       "  <tbody>\n",
       "    <tr>\n",
       "      <th>0</th>\n",
       "      <td>2.987250e+13</td>\n",
       "      <td>5642903</td>\n",
       "      <td>F</td>\n",
       "      <td>2016-04-29 18:38:08+00:00</td>\n",
       "      <td>2016-04-29 00:00:00+00:00</td>\n",
       "      <td>62</td>\n",
       "      <td>JARDIM DA PENHA</td>\n",
       "      <td>0</td>\n",
       "      <td>1</td>\n",
       "      <td>0</td>\n",
       "      <td>0</td>\n",
       "      <td>0</td>\n",
       "      <td>0</td>\n",
       "      <td>No</td>\n",
       "    </tr>\n",
       "    <tr>\n",
       "      <th>1</th>\n",
       "      <td>5.589978e+14</td>\n",
       "      <td>5642503</td>\n",
       "      <td>M</td>\n",
       "      <td>2016-04-29 16:08:27+00:00</td>\n",
       "      <td>2016-04-29 00:00:00+00:00</td>\n",
       "      <td>56</td>\n",
       "      <td>JARDIM DA PENHA</td>\n",
       "      <td>0</td>\n",
       "      <td>0</td>\n",
       "      <td>0</td>\n",
       "      <td>0</td>\n",
       "      <td>0</td>\n",
       "      <td>0</td>\n",
       "      <td>No</td>\n",
       "    </tr>\n",
       "    <tr>\n",
       "      <th>2</th>\n",
       "      <td>4.262962e+12</td>\n",
       "      <td>5642549</td>\n",
       "      <td>F</td>\n",
       "      <td>2016-04-29 16:19:04+00:00</td>\n",
       "      <td>2016-04-29 00:00:00+00:00</td>\n",
       "      <td>62</td>\n",
       "      <td>MATA DA PRAIA</td>\n",
       "      <td>0</td>\n",
       "      <td>0</td>\n",
       "      <td>0</td>\n",
       "      <td>0</td>\n",
       "      <td>0</td>\n",
       "      <td>0</td>\n",
       "      <td>No</td>\n",
       "    </tr>\n",
       "    <tr>\n",
       "      <th>3</th>\n",
       "      <td>8.679512e+11</td>\n",
       "      <td>5642828</td>\n",
       "      <td>F</td>\n",
       "      <td>2016-04-29 17:29:31+00:00</td>\n",
       "      <td>2016-04-29 00:00:00+00:00</td>\n",
       "      <td>8</td>\n",
       "      <td>PONTAL DE CAMBURI</td>\n",
       "      <td>0</td>\n",
       "      <td>0</td>\n",
       "      <td>0</td>\n",
       "      <td>0</td>\n",
       "      <td>0</td>\n",
       "      <td>0</td>\n",
       "      <td>No</td>\n",
       "    </tr>\n",
       "    <tr>\n",
       "      <th>4</th>\n",
       "      <td>8.841186e+12</td>\n",
       "      <td>5642494</td>\n",
       "      <td>F</td>\n",
       "      <td>2016-04-29 16:07:23+00:00</td>\n",
       "      <td>2016-04-29 00:00:00+00:00</td>\n",
       "      <td>56</td>\n",
       "      <td>JARDIM DA PENHA</td>\n",
       "      <td>0</td>\n",
       "      <td>1</td>\n",
       "      <td>1</td>\n",
       "      <td>0</td>\n",
       "      <td>0</td>\n",
       "      <td>0</td>\n",
       "      <td>No</td>\n",
       "    </tr>\n",
       "  </tbody>\n",
       "</table>\n",
       "</div>"
      ],
      "text/plain": [
       "      PatientId  AppointmentID Gender              ScheduledDay  \\\n",
       "0  2.987250e+13        5642903      F 2016-04-29 18:38:08+00:00   \n",
       "1  5.589978e+14        5642503      M 2016-04-29 16:08:27+00:00   \n",
       "2  4.262962e+12        5642549      F 2016-04-29 16:19:04+00:00   \n",
       "3  8.679512e+11        5642828      F 2016-04-29 17:29:31+00:00   \n",
       "4  8.841186e+12        5642494      F 2016-04-29 16:07:23+00:00   \n",
       "\n",
       "             AppointmentDay  Age      Neighbourhood  Scholarship  \\\n",
       "0 2016-04-29 00:00:00+00:00   62    JARDIM DA PENHA            0   \n",
       "1 2016-04-29 00:00:00+00:00   56    JARDIM DA PENHA            0   \n",
       "2 2016-04-29 00:00:00+00:00   62      MATA DA PRAIA            0   \n",
       "3 2016-04-29 00:00:00+00:00    8  PONTAL DE CAMBURI            0   \n",
       "4 2016-04-29 00:00:00+00:00   56    JARDIM DA PENHA            0   \n",
       "\n",
       "   Hipertension  Diabetes  Alcoholism  Handcap  SMS_received No-show  \n",
       "0             1         0           0        0             0      No  \n",
       "1             0         0           0        0             0      No  \n",
       "2             0         0           0        0             0      No  \n",
       "3             0         0           0        0             0      No  \n",
       "4             1         1           0        0             0      No  "
      ]
     },
     "execution_count": 2,
     "metadata": {},
     "output_type": "execute_result"
    }
   ],
   "source": [
    "df = pd.read_csv(\"noshowappointments-kagglev2-may-2016.csv\", parse_dates =['ScheduledDay', \n",
    "                                                                           'AppointmentDay'])\n",
    "df.head()"
   ]
  },
  {
   "cell_type": "markdown",
   "id": "b55e7608",
   "metadata": {},
   "source": [
    "##### Data Wrangling"
   ]
  },
  {
   "cell_type": "code",
   "execution_count": 3,
   "id": "7cffe368",
   "metadata": {
    "scrolled": true
   },
   "outputs": [
    {
     "data": {
      "text/plain": [
       "(110527, 14)"
      ]
     },
     "execution_count": 3,
     "metadata": {},
     "output_type": "execute_result"
    }
   ],
   "source": [
    "df.shape #dataset has 110527 patients and 14 varibales"
   ]
  },
  {
   "cell_type": "code",
   "execution_count": 4,
   "id": "d1aaf0dd",
   "metadata": {
    "scrolled": false
   },
   "outputs": [
    {
     "name": "stdout",
     "output_type": "stream",
     "text": [
      "<class 'pandas.core.frame.DataFrame'>\n",
      "RangeIndex: 110527 entries, 0 to 110526\n",
      "Data columns (total 14 columns):\n",
      " #   Column          Non-Null Count   Dtype              \n",
      "---  ------          --------------   -----              \n",
      " 0   PatientId       110527 non-null  float64            \n",
      " 1   AppointmentID   110527 non-null  int64              \n",
      " 2   Gender          110527 non-null  object             \n",
      " 3   ScheduledDay    110527 non-null  datetime64[ns, UTC]\n",
      " 4   AppointmentDay  110527 non-null  datetime64[ns, UTC]\n",
      " 5   Age             110527 non-null  int64              \n",
      " 6   Neighbourhood   110527 non-null  object             \n",
      " 7   Scholarship     110527 non-null  int64              \n",
      " 8   Hipertension    110527 non-null  int64              \n",
      " 9   Diabetes        110527 non-null  int64              \n",
      " 10  Alcoholism      110527 non-null  int64              \n",
      " 11  Handcap         110527 non-null  int64              \n",
      " 12  SMS_received    110527 non-null  int64              \n",
      " 13  No-show         110527 non-null  object             \n",
      "dtypes: datetime64[ns, UTC](2), float64(1), int64(8), object(3)\n",
      "memory usage: 11.8+ MB\n"
     ]
    }
   ],
   "source": [
    "df.info() "
   ]
  },
  {
   "cell_type": "markdown",
   "id": "07465ff7",
   "metadata": {},
   "source": [
    "Data types are correct and there appears to be no missing values"
   ]
  },
  {
   "cell_type": "code",
   "execution_count": 5,
   "id": "afafa6e0",
   "metadata": {},
   "outputs": [
    {
     "data": {
      "text/plain": [
       "PatientId         0\n",
       "AppointmentID     0\n",
       "Gender            0\n",
       "ScheduledDay      0\n",
       "AppointmentDay    0\n",
       "Age               0\n",
       "Neighbourhood     0\n",
       "Scholarship       0\n",
       "Hipertension      0\n",
       "Diabetes          0\n",
       "Alcoholism        0\n",
       "Handcap           0\n",
       "SMS_received      0\n",
       "No-show           0\n",
       "dtype: int64"
      ]
     },
     "execution_count": 5,
     "metadata": {},
     "output_type": "execute_result"
    }
   ],
   "source": [
    "df.isna().sum() #confirming the absence of missing values\n",
    "#there are no missing values"
   ]
  },
  {
   "cell_type": "code",
   "execution_count": 6,
   "id": "9499bce1",
   "metadata": {},
   "outputs": [
    {
     "data": {
      "text/html": [
       "<div>\n",
       "<style scoped>\n",
       "    .dataframe tbody tr th:only-of-type {\n",
       "        vertical-align: middle;\n",
       "    }\n",
       "\n",
       "    .dataframe tbody tr th {\n",
       "        vertical-align: top;\n",
       "    }\n",
       "\n",
       "    .dataframe thead th {\n",
       "        text-align: right;\n",
       "    }\n",
       "</style>\n",
       "<table border=\"1\" class=\"dataframe\">\n",
       "  <thead>\n",
       "    <tr style=\"text-align: right;\">\n",
       "      <th></th>\n",
       "      <th>Gender</th>\n",
       "      <th>ScheduledDay</th>\n",
       "      <th>AppointmentDay</th>\n",
       "      <th>Age</th>\n",
       "      <th>Neighbourhood</th>\n",
       "      <th>Scholarship</th>\n",
       "      <th>Hipertension</th>\n",
       "      <th>Diabetes</th>\n",
       "      <th>Alcoholism</th>\n",
       "      <th>Handcap</th>\n",
       "      <th>SMS_received</th>\n",
       "      <th>No-show</th>\n",
       "    </tr>\n",
       "  </thead>\n",
       "  <tbody>\n",
       "    <tr>\n",
       "      <th>0</th>\n",
       "      <td>F</td>\n",
       "      <td>2016-04-29 18:38:08+00:00</td>\n",
       "      <td>2016-04-29 00:00:00+00:00</td>\n",
       "      <td>62</td>\n",
       "      <td>JARDIM DA PENHA</td>\n",
       "      <td>0</td>\n",
       "      <td>1</td>\n",
       "      <td>0</td>\n",
       "      <td>0</td>\n",
       "      <td>0</td>\n",
       "      <td>0</td>\n",
       "      <td>No</td>\n",
       "    </tr>\n",
       "    <tr>\n",
       "      <th>1</th>\n",
       "      <td>M</td>\n",
       "      <td>2016-04-29 16:08:27+00:00</td>\n",
       "      <td>2016-04-29 00:00:00+00:00</td>\n",
       "      <td>56</td>\n",
       "      <td>JARDIM DA PENHA</td>\n",
       "      <td>0</td>\n",
       "      <td>0</td>\n",
       "      <td>0</td>\n",
       "      <td>0</td>\n",
       "      <td>0</td>\n",
       "      <td>0</td>\n",
       "      <td>No</td>\n",
       "    </tr>\n",
       "    <tr>\n",
       "      <th>2</th>\n",
       "      <td>F</td>\n",
       "      <td>2016-04-29 16:19:04+00:00</td>\n",
       "      <td>2016-04-29 00:00:00+00:00</td>\n",
       "      <td>62</td>\n",
       "      <td>MATA DA PRAIA</td>\n",
       "      <td>0</td>\n",
       "      <td>0</td>\n",
       "      <td>0</td>\n",
       "      <td>0</td>\n",
       "      <td>0</td>\n",
       "      <td>0</td>\n",
       "      <td>No</td>\n",
       "    </tr>\n",
       "    <tr>\n",
       "      <th>3</th>\n",
       "      <td>F</td>\n",
       "      <td>2016-04-29 17:29:31+00:00</td>\n",
       "      <td>2016-04-29 00:00:00+00:00</td>\n",
       "      <td>8</td>\n",
       "      <td>PONTAL DE CAMBURI</td>\n",
       "      <td>0</td>\n",
       "      <td>0</td>\n",
       "      <td>0</td>\n",
       "      <td>0</td>\n",
       "      <td>0</td>\n",
       "      <td>0</td>\n",
       "      <td>No</td>\n",
       "    </tr>\n",
       "    <tr>\n",
       "      <th>4</th>\n",
       "      <td>F</td>\n",
       "      <td>2016-04-29 16:07:23+00:00</td>\n",
       "      <td>2016-04-29 00:00:00+00:00</td>\n",
       "      <td>56</td>\n",
       "      <td>JARDIM DA PENHA</td>\n",
       "      <td>0</td>\n",
       "      <td>1</td>\n",
       "      <td>1</td>\n",
       "      <td>0</td>\n",
       "      <td>0</td>\n",
       "      <td>0</td>\n",
       "      <td>No</td>\n",
       "    </tr>\n",
       "  </tbody>\n",
       "</table>\n",
       "</div>"
      ],
      "text/plain": [
       "  Gender              ScheduledDay            AppointmentDay  Age  \\\n",
       "0      F 2016-04-29 18:38:08+00:00 2016-04-29 00:00:00+00:00   62   \n",
       "1      M 2016-04-29 16:08:27+00:00 2016-04-29 00:00:00+00:00   56   \n",
       "2      F 2016-04-29 16:19:04+00:00 2016-04-29 00:00:00+00:00   62   \n",
       "3      F 2016-04-29 17:29:31+00:00 2016-04-29 00:00:00+00:00    8   \n",
       "4      F 2016-04-29 16:07:23+00:00 2016-04-29 00:00:00+00:00   56   \n",
       "\n",
       "       Neighbourhood  Scholarship  Hipertension  Diabetes  Alcoholism  \\\n",
       "0    JARDIM DA PENHA            0             1         0           0   \n",
       "1    JARDIM DA PENHA            0             0         0           0   \n",
       "2      MATA DA PRAIA            0             0         0           0   \n",
       "3  PONTAL DE CAMBURI            0             0         0           0   \n",
       "4    JARDIM DA PENHA            0             1         1           0   \n",
       "\n",
       "   Handcap  SMS_received No-show  \n",
       "0        0             0      No  \n",
       "1        0             0      No  \n",
       "2        0             0      No  \n",
       "3        0             0      No  \n",
       "4        0             0      No  "
      ]
     },
     "execution_count": 6,
     "metadata": {},
     "output_type": "execute_result"
    }
   ],
   "source": [
    "df.drop(['PatientId', 'AppointmentID'], axis = 1,inplace = True)\n",
    "df.head()"
   ]
  },
  {
   "cell_type": "code",
   "execution_count": 7,
   "id": "3b872954",
   "metadata": {},
   "outputs": [
    {
     "data": {
      "text/html": [
       "<div>\n",
       "<style scoped>\n",
       "    .dataframe tbody tr th:only-of-type {\n",
       "        vertical-align: middle;\n",
       "    }\n",
       "\n",
       "    .dataframe tbody tr th {\n",
       "        vertical-align: top;\n",
       "    }\n",
       "\n",
       "    .dataframe thead th {\n",
       "        text-align: right;\n",
       "    }\n",
       "</style>\n",
       "<table border=\"1\" class=\"dataframe\">\n",
       "  <thead>\n",
       "    <tr style=\"text-align: right;\">\n",
       "      <th></th>\n",
       "      <th>count</th>\n",
       "      <th>mean</th>\n",
       "      <th>std</th>\n",
       "      <th>min</th>\n",
       "      <th>25%</th>\n",
       "      <th>50%</th>\n",
       "      <th>75%</th>\n",
       "      <th>max</th>\n",
       "    </tr>\n",
       "  </thead>\n",
       "  <tbody>\n",
       "    <tr>\n",
       "      <th>Age</th>\n",
       "      <td>110527.0</td>\n",
       "      <td>37.088874</td>\n",
       "      <td>23.110205</td>\n",
       "      <td>-1.0</td>\n",
       "      <td>18.0</td>\n",
       "      <td>37.0</td>\n",
       "      <td>55.0</td>\n",
       "      <td>115.0</td>\n",
       "    </tr>\n",
       "    <tr>\n",
       "      <th>Scholarship</th>\n",
       "      <td>110527.0</td>\n",
       "      <td>0.098266</td>\n",
       "      <td>0.297675</td>\n",
       "      <td>0.0</td>\n",
       "      <td>0.0</td>\n",
       "      <td>0.0</td>\n",
       "      <td>0.0</td>\n",
       "      <td>1.0</td>\n",
       "    </tr>\n",
       "    <tr>\n",
       "      <th>Hipertension</th>\n",
       "      <td>110527.0</td>\n",
       "      <td>0.197246</td>\n",
       "      <td>0.397921</td>\n",
       "      <td>0.0</td>\n",
       "      <td>0.0</td>\n",
       "      <td>0.0</td>\n",
       "      <td>0.0</td>\n",
       "      <td>1.0</td>\n",
       "    </tr>\n",
       "    <tr>\n",
       "      <th>Diabetes</th>\n",
       "      <td>110527.0</td>\n",
       "      <td>0.071865</td>\n",
       "      <td>0.258265</td>\n",
       "      <td>0.0</td>\n",
       "      <td>0.0</td>\n",
       "      <td>0.0</td>\n",
       "      <td>0.0</td>\n",
       "      <td>1.0</td>\n",
       "    </tr>\n",
       "    <tr>\n",
       "      <th>Alcoholism</th>\n",
       "      <td>110527.0</td>\n",
       "      <td>0.030400</td>\n",
       "      <td>0.171686</td>\n",
       "      <td>0.0</td>\n",
       "      <td>0.0</td>\n",
       "      <td>0.0</td>\n",
       "      <td>0.0</td>\n",
       "      <td>1.0</td>\n",
       "    </tr>\n",
       "    <tr>\n",
       "      <th>Handcap</th>\n",
       "      <td>110527.0</td>\n",
       "      <td>0.022248</td>\n",
       "      <td>0.161543</td>\n",
       "      <td>0.0</td>\n",
       "      <td>0.0</td>\n",
       "      <td>0.0</td>\n",
       "      <td>0.0</td>\n",
       "      <td>4.0</td>\n",
       "    </tr>\n",
       "    <tr>\n",
       "      <th>SMS_received</th>\n",
       "      <td>110527.0</td>\n",
       "      <td>0.321026</td>\n",
       "      <td>0.466873</td>\n",
       "      <td>0.0</td>\n",
       "      <td>0.0</td>\n",
       "      <td>0.0</td>\n",
       "      <td>1.0</td>\n",
       "      <td>1.0</td>\n",
       "    </tr>\n",
       "  </tbody>\n",
       "</table>\n",
       "</div>"
      ],
      "text/plain": [
       "                 count       mean        std  min   25%   50%   75%    max\n",
       "Age           110527.0  37.088874  23.110205 -1.0  18.0  37.0  55.0  115.0\n",
       "Scholarship   110527.0   0.098266   0.297675  0.0   0.0   0.0   0.0    1.0\n",
       "Hipertension  110527.0   0.197246   0.397921  0.0   0.0   0.0   0.0    1.0\n",
       "Diabetes      110527.0   0.071865   0.258265  0.0   0.0   0.0   0.0    1.0\n",
       "Alcoholism    110527.0   0.030400   0.171686  0.0   0.0   0.0   0.0    1.0\n",
       "Handcap       110527.0   0.022248   0.161543  0.0   0.0   0.0   0.0    4.0\n",
       "SMS_received  110527.0   0.321026   0.466873  0.0   0.0   0.0   1.0    1.0"
      ]
     },
     "execution_count": 7,
     "metadata": {},
     "output_type": "execute_result"
    }
   ],
   "source": [
    "df.describe().T"
   ]
  },
  {
   "cell_type": "markdown",
   "id": "6b2ed6c2",
   "metadata": {},
   "source": [
    "The age column has a minimum value of -1.0 which is impossible hence it will be treated as a null value and the oldest patient is 115 years old. The patients have more person of around 30 and 40\n",
    "years of age.\n",
    "\n",
    "Many of the patients are not recipients of the scholarship as the median (50%) is zero\n",
    "\n",
    "Moe than half patients are diagnosed with Hipertension samething goes for diabetes, alcoholism, \n",
    "handcap, and hypertensionas their median(50%) is 0.\n",
    "\n",
    "Most patients do not receive SMS"
   ]
  },
  {
   "cell_type": "code",
   "execution_count": 8,
   "id": "97e41940",
   "metadata": {},
   "outputs": [
    {
     "data": {
      "text/plain": [
       "1"
      ]
     },
     "execution_count": 8,
     "metadata": {},
     "output_type": "execute_result"
    }
   ],
   "source": [
    "df['Age'].replace(-1, np.nan, inplace = True) #replace any age recorded as -1 with missing value\n",
    "df['Age'].isnull().sum() #there is only one patient recorded with age -1"
   ]
  },
  {
   "cell_type": "code",
   "execution_count": 9,
   "id": "f1995260",
   "metadata": {},
   "outputs": [
    {
     "data": {
      "text/plain": [
       "0"
      ]
     },
     "execution_count": 9,
     "metadata": {},
     "output_type": "execute_result"
    }
   ],
   "source": [
    "df['Age'].fillna(df['Age'].mean(), inplace = True) #Replace missing value with mean\n",
    "\n",
    "df['Age'].isnull().sum() #confirming if missining value have being replaced"
   ]
  },
  {
   "cell_type": "markdown",
   "id": "73bdd82d",
   "metadata": {},
   "source": [
    "The dataset is not messy, as there are no missing values, the datatypes are correct, the only anomaly is the age which has a minimum value of -1 which is not possible to have age as -1, hence, it was made a missing value and the missing value was replaced with the mean of the age."
   ]
  },
  {
   "cell_type": "markdown",
   "id": "d8e66f32",
   "metadata": {},
   "source": [
    "#### Exploratory Data Anaysis"
   ]
  },
  {
   "cell_type": "code",
   "execution_count": 10,
   "id": "38af2c10",
   "metadata": {
    "scrolled": false
   },
   "outputs": [
    {
     "data": {
      "image/png": "[encoded data removed]",
      "text/plain": [
       "<Figure size 1152x1152 with 9 Axes>"
      ]
     },
     "metadata": {
      "needs_background": "light"
     },
     "output_type": "display_data"
    }
   ],
   "source": [
    "df.hist(figsize = (16, 16));"
   ]
  },
  {
   "cell_type": "markdown",
   "id": "214f02fc",
   "metadata": {},
   "source": [
    "The histogram shows that there is no even distribution in the dataset. "
   ]
  },
  {
   "cell_type": "code",
   "execution_count": 11,
   "id": "6c6e9305",
   "metadata": {},
   "outputs": [
    {
     "data": {
      "text/plain": [
       "Index(['Gender', 'ScheduledDay', 'AppointmentDay', 'Age', 'Neighbourhood',\n",
       "       'Scholarship', 'Hipertension', 'Diabetes', 'Alcoholism', 'Handcap',\n",
       "       'SMS_received', 'No-show'],\n",
       "      dtype='object')"
      ]
     },
     "execution_count": 11,
     "metadata": {},
     "output_type": "execute_result"
    }
   ],
   "source": [
    "df.columns"
   ]
  },
  {
   "cell_type": "code",
   "execution_count": 12,
   "id": "f8e97fa6",
   "metadata": {},
   "outputs": [
    {
     "data": {
      "text/plain": [
       "Babies            36025\n",
       "Young Children    33021\n",
       "Young Adults      32184\n",
       "Adults             9141\n",
       "Aged                156\n",
       "Name: Age_binned, dtype: int64"
      ]
     },
     "execution_count": 12,
     "metadata": {},
     "output_type": "execute_result"
    }
   ],
   "source": [
    "df['Age_binned'] = pd.cut(df['Age'], 5, labels = ['Babies', 'Young Children', \n",
    "                                                'Young Adults', 'Adults', 'Aged'])  \n",
    "\n",
    "df['Age_binned'].value_counts()"
   ]
  },
  {
   "cell_type": "code",
   "execution_count": 13,
   "id": "13eab7d3",
   "metadata": {},
   "outputs": [
    {
     "data": {
      "text/plain": [
       "Age_binned      No-show\n",
       "Babies          No         27880\n",
       "                Yes         8145\n",
       "Young Children  No         25701\n",
       "                Yes         7320\n",
       "Young Adults    No         26782\n",
       "                Yes         5402\n",
       "Adults          No          7718\n",
       "                Yes         1423\n",
       "Aged            No           127\n",
       "                Yes           29\n",
       "Name: No-show, dtype: int64"
      ]
     },
     "execution_count": 13,
     "metadata": {},
     "output_type": "execute_result"
    }
   ],
   "source": [
    "df.groupby(['Age_binned'])['No-show'].value_counts()"
   ]
  },
  {
   "cell_type": "markdown",
   "id": "f69fdebc",
   "metadata": {},
   "source": [
    "### Question 1:"
   ]
  },
  {
   "cell_type": "markdown",
   "id": "f85298a2",
   "metadata": {},
   "source": [
    "###### Question 1a: Impact of SMS_received on 'No-show'"
   ]
  },
  {
   "cell_type": "code",
   "execution_count": 14,
   "id": "b64cb6c0",
   "metadata": {
    "scrolled": false
   },
   "outputs": [
    {
     "data": {
      "text/plain": [
       "0    75045\n",
       "1    35482\n",
       "Name: SMS_received, dtype: int64"
      ]
     },
     "execution_count": 14,
     "metadata": {},
     "output_type": "execute_result"
    }
   ],
   "source": [
    "df['SMS_received'].value_counts()\n",
    "#There are more persons who didnt receive sms(0) than those who did(1)"
   ]
  },
  {
   "cell_type": "code",
   "execution_count": 28,
   "id": "a608a19f",
   "metadata": {},
   "outputs": [
    {
     "name": "stdout",
     "output_type": "stream",
     "text": [
      "SMS_received  No-show\n",
      "0             No         62510\n",
      "              Yes        12535\n",
      "1             No         25698\n",
      "              Yes         9784\n",
      "Name: No-show, dtype: int64\n"
     ]
    },
    {
     "data": {
      "image/png": "[encoded data removed]",
      "text/plain": [
       "<Figure size 432x288 with 1 Axes>"
      ]
     },
     "metadata": {
      "needs_background": "light"
     },
     "output_type": "display_data"
    }
   ],
   "source": [
    "print(df.groupby(['SMS_received'])['No-show'].value_counts())\n",
    "\n",
    "df.groupby(['SMS_received'])['No-show'].value_counts().plot(kind = 'bar', \n",
    "                                                            title = 'SMS_received by No-show')\n",
    "plt.show();"
   ]
  },
  {
   "cell_type": "markdown",
   "id": "a6359a7b",
   "metadata": {},
   "source": [
    "The patients that receive sms and keep their appointments are more patients who don't receive SMS and don't keep their appointments. Again, patients that don't receive SMS and don't show up are more than patients that receive SMS and don't show"
   ]
  },
  {
   "cell_type": "markdown",
   "id": "28150897",
   "metadata": {},
   "source": [
    "##### Question 1b: Impact of scholarship on No-show"
   ]
  },
  {
   "cell_type": "code",
   "execution_count": 40,
   "id": "8586a591",
   "metadata": {},
   "outputs": [
    {
     "data": {
      "image/png": "[encoded data removed]",
      "text/plain": [
       "<Figure size 432x288 with 1 Axes>"
      ]
     },
     "metadata": {
      "needs_background": "light"
     },
     "output_type": "display_data"
    }
   ],
   "source": [
    "leng = 'Recipient', 'Not Recipient'\n",
    "df.Scholarship.value_counts().plot(kind = 'bar', title = 'Scholarship count')\n",
    "plt.show();"
   ]
  },
  {
   "cell_type": "markdown",
   "id": "c6cdb381",
   "metadata": {},
   "source": [
    "There are more non-recipients(0) of scholarship than there are recipients(1) of the Brasilian scholarship.\n",
    "This could be due to the fact that a great number of the population are babies."
   ]
  },
  {
   "cell_type": "code",
   "execution_count": 41,
   "id": "0fef29a2",
   "metadata": {},
   "outputs": [
    {
     "data": {
      "image/png": "[encoded data removed]",
      "text/plain": [
       "<Figure size 432x288 with 1 Axes>"
      ]
     },
     "metadata": {
      "needs_background": "light"
     },
     "output_type": "display_data"
    }
   ],
   "source": [
    "df.groupby(['Age_binned'])['Scholarship'].value_counts().plot(kind = 'bar', \n",
    "                                                              title = 'Scholarship by age group');"
   ]
  },
  {
   "cell_type": "markdown",
   "id": "9de15ef1",
   "metadata": {},
   "source": [
    "In the age group, there are none recipients of the scholarship than those that did receive the \n",
    "scholarship even amongst the age group that of school age (young children and young adults)."
   ]
  },
  {
   "cell_type": "code",
   "execution_count": 18,
   "id": "eadc7236",
   "metadata": {},
   "outputs": [
    {
     "data": {
      "text/plain": [
       "Scholarship  No-show\n",
       "0            No         79925\n",
       "             Yes        19741\n",
       "1            No          8283\n",
       "             Yes         2578\n",
       "Name: No-show, dtype: int64"
      ]
     },
     "execution_count": 18,
     "metadata": {},
     "output_type": "execute_result"
    }
   ],
   "source": [
    "df.groupby(['Scholarship'])['No-show'].value_counts()"
   ]
  },
  {
   "cell_type": "code",
   "execution_count": 63,
   "id": "b34af7fb",
   "metadata": {
    "scrolled": false
   },
   "outputs": [
    {
     "data": {
      "image/png": "[encoded data removed]",
      "text/plain": [
       "<Figure size 432x288 with 1 Axes>"
      ]
     },
     "metadata": {
      "needs_background": "light"
     },
     "output_type": "display_data"
    }
   ],
   "source": [
    "df.groupby(['Scholarship'])['No-show'].value_counts().plot(kind = 'bar', \n",
    "                                                           title = 'Scholarship by No-show')\n",
    "\n",
    "plt.ylabel('count')\n",
    "plt.xlabel(['Scholarship', 'No-show'])\n",
    "plt.show();"
   ]
  },
  {
   "cell_type": "markdown",
   "id": "750d45d4",
   "metadata": {},
   "source": [
    "Since there are more none scholarship recipients, that also reflects in their response to medical appointments. With those that received scholarship they are more positive response to medical appointment than none recipients of scholarship.\n",
    "Patients that receive scholarship and don't show up are more than are scholars and don't keep appointments"
   ]
  },
  {
   "cell_type": "code",
   "execution_count": 20,
   "id": "89c13194",
   "metadata": {},
   "outputs": [],
   "source": [
    "df['Year'] = pd.DatetimeIndex(df['AppointmentDay']).year\n",
    "df['Month'] = pd.DatetimeIndex(df['AppointmentDay']).month"
   ]
  },
  {
   "cell_type": "code",
   "execution_count": 21,
   "id": "efda800c",
   "metadata": {},
   "outputs": [
    {
     "name": "stdout",
     "output_type": "stream",
     "text": [
      "0    2016\n",
      "1    2016\n",
      "2    2016\n",
      "3    2016\n",
      "4    2016\n",
      "Name: Year, dtype: int64\n",
      "0    4\n",
      "1    4\n",
      "2    4\n",
      "3    4\n",
      "4    4\n",
      "Name: Month, dtype: int64\n"
     ]
    }
   ],
   "source": [
    "print(df['Year'].head())\n",
    "print(df['Month'].head())"
   ]
  },
  {
   "cell_type": "code",
   "execution_count": 22,
   "id": "c07a5d5b",
   "metadata": {},
   "outputs": [
    {
     "data": {
      "text/plain": [
       "2016    110527\n",
       "Name: Year, dtype: int64"
      ]
     },
     "execution_count": 22,
     "metadata": {},
     "output_type": "execute_result"
    }
   ],
   "source": [
    "df['Year'].value_counts()"
   ]
  },
  {
   "cell_type": "code",
   "execution_count": 23,
   "id": "e4eb5063",
   "metadata": {
    "scrolled": true
   },
   "outputs": [
    {
     "data": {
      "text/plain": [
       "5    80841\n",
       "6    26451\n",
       "4     3235\n",
       "Name: Month, dtype: int64"
      ]
     },
     "execution_count": 23,
     "metadata": {},
     "output_type": "execute_result"
    }
   ],
   "source": [
    "df['Month'].value_counts()"
   ]
  },
  {
   "cell_type": "markdown",
   "id": "08ad20cb",
   "metadata": {},
   "source": [
    "There are three months that appointments were made with the fifth month having the highest number of appointments and the fourth with the lowest number of appointments."
   ]
  },
  {
   "cell_type": "code",
   "execution_count": 24,
   "id": "6e5196e4",
   "metadata": {
    "scrolled": false
   },
   "outputs": [
    {
     "data": {
      "image/png": "[encoded data removed]",
      "text/plain": [
       "<Figure size 432x288 with 1 Axes>"
      ]
     },
     "metadata": {
      "needs_background": "light"
     },
     "output_type": "display_data"
    }
   ],
   "source": [
    "mycolors = [\"hotpink\", \"b\", \"#4CAF50\"]\n",
    "\n",
    "df.groupby(['Month'])['No-show'].value_counts().plot(kind = 'bar', color = mycolors);"
   ]
  },
  {
   "cell_type": "markdown",
   "id": "034e6e34",
   "metadata": {},
   "source": [
    "The fifth month of the year has the highest number of person who kept their appointments than other months of the year followed by the sixth month with the fourth month as the least."
   ]
  },
  {
   "cell_type": "code",
   "execution_count": 25,
   "id": "fa4b070d",
   "metadata": {},
   "outputs": [
    {
     "data": {
      "text/plain": [
       "0         62.0\n",
       "1         56.0\n",
       "2         62.0\n",
       "3          8.0\n",
       "4         56.0\n",
       "          ... \n",
       "110522    56.0\n",
       "110523    51.0\n",
       "110524    21.0\n",
       "110525    38.0\n",
       "110526    54.0\n",
       "Name: Age, Length: 110527, dtype: float64"
      ]
     },
     "execution_count": 25,
     "metadata": {},
     "output_type": "execute_result"
    }
   ],
   "source": [
    "df.Age"
   ]
  },
  {
   "cell_type": "code",
   "execution_count": 26,
   "id": "498d3645",
   "metadata": {},
   "outputs": [
    {
     "data": {
      "text/plain": [
       "0         No\n",
       "1         No\n",
       "2         No\n",
       "3         No\n",
       "4         No\n",
       "          ..\n",
       "110522    No\n",
       "110523    No\n",
       "110524    No\n",
       "110525    No\n",
       "110526    No\n",
       "Name: No-show, Length: 110527, dtype: object"
      ]
     },
     "execution_count": 26,
     "metadata": {},
     "output_type": "execute_result"
    }
   ],
   "source": [
    "df['No-show']"
   ]
  },
  {
   "cell_type": "code",
   "execution_count": 27,
   "id": "ad83de88",
   "metadata": {},
   "outputs": [
    {
     "data": {
      "text/html": [
       "<div>\n",
       "<style scoped>\n",
       "    .dataframe tbody tr th:only-of-type {\n",
       "        vertical-align: middle;\n",
       "    }\n",
       "\n",
       "    .dataframe tbody tr th {\n",
       "        vertical-align: top;\n",
       "    }\n",
       "\n",
       "    .dataframe thead th {\n",
       "        text-align: right;\n",
       "    }\n",
       "</style>\n",
       "<table border=\"1\" class=\"dataframe\">\n",
       "  <thead>\n",
       "    <tr style=\"text-align: right;\">\n",
       "      <th></th>\n",
       "      <th>Gender</th>\n",
       "      <th>ScheduledDay</th>\n",
       "      <th>AppointmentDay</th>\n",
       "      <th>Age</th>\n",
       "      <th>Neighbourhood</th>\n",
       "      <th>Scholarship</th>\n",
       "      <th>Hipertension</th>\n",
       "      <th>Diabetes</th>\n",
       "      <th>Alcoholism</th>\n",
       "      <th>Handcap</th>\n",
       "      <th>SMS_received</th>\n",
       "      <th>No-show</th>\n",
       "      <th>Age_binned</th>\n",
       "      <th>Year</th>\n",
       "      <th>Month</th>\n",
       "    </tr>\n",
       "  </thead>\n",
       "  <tbody>\n",
       "    <tr>\n",
       "      <th>0</th>\n",
       "      <td>F</td>\n",
       "      <td>2016-04-29 18:38:08+00:00</td>\n",
       "      <td>2016-04-29 00:00:00+00:00</td>\n",
       "      <td>62.0</td>\n",
       "      <td>JARDIM DA PENHA</td>\n",
       "      <td>0</td>\n",
       "      <td>1</td>\n",
       "      <td>0</td>\n",
       "      <td>0</td>\n",
       "      <td>0</td>\n",
       "      <td>0</td>\n",
       "      <td>No</td>\n",
       "      <td>Young Adults</td>\n",
       "      <td>2016</td>\n",
       "      <td>4</td>\n",
       "    </tr>\n",
       "    <tr>\n",
       "      <th>1</th>\n",
       "      <td>M</td>\n",
       "      <td>2016-04-29 16:08:27+00:00</td>\n",
       "      <td>2016-04-29 00:00:00+00:00</td>\n",
       "      <td>56.0</td>\n",
       "      <td>JARDIM DA PENHA</td>\n",
       "      <td>0</td>\n",
       "      <td>0</td>\n",
       "      <td>0</td>\n",
       "      <td>0</td>\n",
       "      <td>0</td>\n",
       "      <td>0</td>\n",
       "      <td>No</td>\n",
       "      <td>Young Adults</td>\n",
       "      <td>2016</td>\n",
       "      <td>4</td>\n",
       "    </tr>\n",
       "    <tr>\n",
       "      <th>2</th>\n",
       "      <td>F</td>\n",
       "      <td>2016-04-29 16:19:04+00:00</td>\n",
       "      <td>2016-04-29 00:00:00+00:00</td>\n",
       "      <td>62.0</td>\n",
       "      <td>MATA DA PRAIA</td>\n",
       "      <td>0</td>\n",
       "      <td>0</td>\n",
       "      <td>0</td>\n",
       "      <td>0</td>\n",
       "      <td>0</td>\n",
       "      <td>0</td>\n",
       "      <td>No</td>\n",
       "      <td>Young Adults</td>\n",
       "      <td>2016</td>\n",
       "      <td>4</td>\n",
       "    </tr>\n",
       "    <tr>\n",
       "      <th>3</th>\n",
       "      <td>F</td>\n",
       "      <td>2016-04-29 17:29:31+00:00</td>\n",
       "      <td>2016-04-29 00:00:00+00:00</td>\n",
       "      <td>8.0</td>\n",
       "      <td>PONTAL DE CAMBURI</td>\n",
       "      <td>0</td>\n",
       "      <td>0</td>\n",
       "      <td>0</td>\n",
       "      <td>0</td>\n",
       "      <td>0</td>\n",
       "      <td>0</td>\n",
       "      <td>No</td>\n",
       "      <td>Babies</td>\n",
       "      <td>2016</td>\n",
       "      <td>4</td>\n",
       "    </tr>\n",
       "    <tr>\n",
       "      <th>4</th>\n",
       "      <td>F</td>\n",
       "      <td>2016-04-29 16:07:23+00:00</td>\n",
       "      <td>2016-04-29 00:00:00+00:00</td>\n",
       "      <td>56.0</td>\n",
       "      <td>JARDIM DA PENHA</td>\n",
       "      <td>0</td>\n",
       "      <td>1</td>\n",
       "      <td>1</td>\n",
       "      <td>0</td>\n",
       "      <td>0</td>\n",
       "      <td>0</td>\n",
       "      <td>No</td>\n",
       "      <td>Young Adults</td>\n",
       "      <td>2016</td>\n",
       "      <td>4</td>\n",
       "    </tr>\n",
       "  </tbody>\n",
       "</table>\n",
       "</div>"
      ],
      "text/plain": [
       "  Gender              ScheduledDay            AppointmentDay   Age  \\\n",
       "0      F 2016-04-29 18:38:08+00:00 2016-04-29 00:00:00+00:00  62.0   \n",
       "1      M 2016-04-29 16:08:27+00:00 2016-04-29 00:00:00+00:00  56.0   \n",
       "2      F 2016-04-29 16:19:04+00:00 2016-04-29 00:00:00+00:00  62.0   \n",
       "3      F 2016-04-29 17:29:31+00:00 2016-04-29 00:00:00+00:00   8.0   \n",
       "4      F 2016-04-29 16:07:23+00:00 2016-04-29 00:00:00+00:00  56.0   \n",
       "\n",
       "       Neighbourhood  Scholarship  Hipertension  Diabetes  Alcoholism  \\\n",
       "0    JARDIM DA PENHA            0             1         0           0   \n",
       "1    JARDIM DA PENHA            0             0         0           0   \n",
       "2      MATA DA PRAIA            0             0         0           0   \n",
       "3  PONTAL DE CAMBURI            0             0         0           0   \n",
       "4    JARDIM DA PENHA            0             1         1           0   \n",
       "\n",
       "   Handcap  SMS_received No-show    Age_binned  Year  Month  \n",
       "0        0             0      No  Young Adults  2016      4  \n",
       "1        0             0      No  Young Adults  2016      4  \n",
       "2        0             0      No  Young Adults  2016      4  \n",
       "3        0             0      No        Babies  2016      4  \n",
       "4        0             0      No  Young Adults  2016      4  "
      ]
     },
     "execution_count": 27,
     "metadata": {},
     "output_type": "execute_result"
    }
   ],
   "source": [
    "df.head()"
   ]
  },
  {
   "cell_type": "markdown",
   "id": "e25626d3",
   "metadata": {},
   "source": [
    "#### Question 1c: How Age group and Gender affects No-show"
   ]
  },
  {
   "cell_type": "code",
   "execution_count": 42,
   "id": "f3aba55e",
   "metadata": {},
   "outputs": [
    {
     "data": {
      "image/png": "[encoded data removed]",
      "text/plain": [
       "<Figure size 432x288 with 1 Axes>"
      ]
     },
     "metadata": {
      "needs_background": "light"
     },
     "output_type": "display_data"
    }
   ],
   "source": [
    "df.Gender.value_counts().plot(kind = 'bar', title = 'Gender count')\n",
    "plt.show(); "
   ]
  },
  {
   "cell_type": "markdown",
   "id": "1449b2e3",
   "metadata": {},
   "source": [
    "The count of female is higher than that of males."
   ]
  },
  {
   "cell_type": "code",
   "execution_count": 43,
   "id": "ad21f974",
   "metadata": {},
   "outputs": [
    {
     "name": "stdout",
     "output_type": "stream",
     "text": [
      "Gender  No-show\n",
      "F       No         57246\n",
      "        Yes        14594\n",
      "M       No         30962\n",
      "        Yes         7725\n",
      "Name: No-show, dtype: int64\n"
     ]
    },
    {
     "data": {
      "image/png": "[encoded data removed]",
      "text/plain": [
       "<Figure size 432x288 with 1 Axes>"
      ]
     },
     "metadata": {
      "needs_background": "light"
     },
     "output_type": "display_data"
    }
   ],
   "source": [
    "#lets check medical appointment response by gender\n",
    "\n",
    "print(df.groupby('Gender')['No-show'].value_counts())\n",
    "\n",
    "df.groupby('Gender')['No-show'].value_counts().plot(kind = 'barh', title = 'Gender by No-show')\n",
    "plt.show();"
   ]
  },
  {
   "cell_type": "markdown",
   "id": "25d75747",
   "metadata": {},
   "source": [
    "Since there are more females than there are males, there more females who don't show up than males"
   ]
  },
  {
   "cell_type": "code",
   "execution_count": 53,
   "id": "4428c061",
   "metadata": {},
   "outputs": [
    {
     "data": {
      "image/png": "[encoded data removed]",
      "text/plain": [
       "<Figure size 432x288 with 1 Axes>"
      ]
     },
     "metadata": {
      "needs_background": "light"
     },
     "output_type": "display_data"
    }
   ],
   "source": [
    "df.groupby(['Age_binned'])['No-show'].value_counts().plot(kind = 'bar', \n",
    "                                                          title = 'Age group count');"
   ]
  },
  {
   "cell_type": "markdown",
   "id": "141a5827",
   "metadata": {},
   "source": [
    "There are more babies and the least is the Age the least observation.\n",
    "Amongst the different age groups, Babies has the highest number of no show up, this could be due to the fact that there are more babies than other age groups, and aged has the least no show up.\n",
    "A general trend in the dataset is that, there are patients who keep appointments than those who do not"
   ]
  },
  {
   "cell_type": "markdown",
   "id": "50218775",
   "metadata": {},
   "source": [
    "The mean age of patients that show up (No) is higher than than those that don't show (Yes)\n",
    "this means more patients turn up than those that don't turn up.\n",
    "However, the difference isn't much as they are within the same range "
   ]
  },
  {
   "cell_type": "code",
   "execution_count": 27,
   "id": "f3f77eeb",
   "metadata": {},
   "outputs": [
    {
     "data": {
      "text/plain": [
       "Index(['Gender', 'ScheduledDay', 'AppointmentDay', 'Age', 'Neighbourhood',\n",
       "       'Scholarship', 'Hipertension', 'Diabetes', 'Alcoholism', 'Handcap',\n",
       "       'SMS_received', 'No-show', 'Year', 'Month', 'Age_binned'],\n",
       "      dtype='object')"
      ]
     },
     "execution_count": 27,
     "metadata": {},
     "output_type": "execute_result"
    }
   ],
   "source": [
    "df.columns"
   ]
  },
  {
   "cell_type": "code",
   "execution_count": 44,
   "id": "eb64c576",
   "metadata": {},
   "outputs": [
    {
     "data": {
      "image/png": "[encoded data removed]",
      "text/plain": [
       "<Figure size 432x288 with 1 Axes>"
      ]
     },
     "metadata": {
      "needs_background": "light"
     },
     "output_type": "display_data"
    }
   ],
   "source": [
    "df.groupby('No-show')['Age'].mean().plot(kind= 'bar', title = 'Age mean by No-show');"
   ]
  },
  {
   "cell_type": "markdown",
   "id": "552da2b9",
   "metadata": {
    "scrolled": true
   },
   "source": [
    "##### Qustion 1d: Effect of diagnosis on 'No-show'"
   ]
  },
  {
   "cell_type": "code",
   "execution_count": 45,
   "id": "130e5e19",
   "metadata": {},
   "outputs": [
    {
     "data": {
      "image/png": "[encoded data removed]",
      "text/plain": [
       "<Figure size 432x288 with 1 Axes>"
      ]
     },
     "metadata": {},
     "output_type": "display_data"
    }
   ],
   "source": [
    "color = ['Blue', 'Green']\n",
    "exp = [0, 0.3]\n",
    "lab = ['Negative', 'Positive']\n",
    "df['Hipertension'].value_counts().plot(kind = 'pie', colors = color, title = 'Percent diagnosis', \n",
    "startangle=90, explode = exp, shadow = True, labels = lab, autopct='%1.2f%%')\n",
    "plt.legend()\n",
    "plt.show();"
   ]
  },
  {
   "cell_type": "markdown",
   "id": "4c29a2f6",
   "metadata": {},
   "source": [
    "80.28% who tested negative to hypertension and 19.72% tested positive"
   ]
  },
  {
   "cell_type": "code",
   "execution_count": 46,
   "id": "a23fdd6d",
   "metadata": {},
   "outputs": [
    {
     "name": "stdout",
     "output_type": "stream",
     "text": [
      "0    88726\n",
      "1    21801\n",
      "Name: Hipertension, dtype: int64\n"
     ]
    },
    {
     "data": {
      "image/png": "[encoded data removed]",
      "text/plain": [
       "<Figure size 432x288 with 1 Axes>"
      ]
     },
     "metadata": {
      "needs_background": "light"
     },
     "output_type": "display_data"
    }
   ],
   "source": [
    "print(df['Hipertension'].value_counts())\n",
    "\n",
    "df.groupby(['Hipertension'])['No-show'].value_counts().plot(kind = 'bar',\n",
    "                                                            title = 'Hypertension by No-show');"
   ]
  },
  {
   "cell_type": "markdown",
   "id": "90e9a1ab",
   "metadata": {},
   "source": [
    "The value counts reveals that they are less patients diagnosed with hypertension than there are patients with hypertension with 1 being diagnosed with hypertension and 0 meaning not diagnosed with hypertension\n",
    "With keeping up with appointments, those that are diagnosed with hypertension keep more appointments than those diagnosed with and don't keep appointments; And patients without hypertension keep more appointments on the whole. This could be probably due to they are more in number"
   ]
  },
  {
   "cell_type": "code",
   "execution_count": 56,
   "id": "e9ccdaa8",
   "metadata": {},
   "outputs": [
    {
     "data": {
      "image/png": "[encoded data removed]",
      "text/plain": [
       "<Figure size 432x288 with 1 Axes>"
      ]
     },
     "metadata": {
      "needs_background": "light"
     },
     "output_type": "display_data"
    }
   ],
   "source": [
    "df.groupby(['Hipertension'])['SMS_received'].value_counts().plot(kind = 'bar', \n",
    "                                            title = 'Hypertension by SMS_received');"
   ]
  },
  {
   "cell_type": "markdown",
   "id": "1f9bf1e3",
   "metadata": {},
   "source": [
    "There are persons that don't have hypertension than those that do"
   ]
  },
  {
   "cell_type": "code",
   "execution_count": 57,
   "id": "4a94f86f",
   "metadata": {},
   "outputs": [
    {
     "data": {
      "image/png": "[encoded data removed]",
      "text/plain": [
       "<Figure size 432x288 with 1 Axes>"
      ]
     },
     "metadata": {
      "needs_background": "light"
     },
     "output_type": "display_data"
    }
   ],
   "source": [
    "df['Diabetes'].value_counts().plot(kind = 'bar', title = 'diabetes count');"
   ]
  },
  {
   "cell_type": "code",
   "execution_count": 50,
   "id": "1df8b7f2",
   "metadata": {},
   "outputs": [
    {
     "data": {
      "image/png": "[encoded data removed]",
      "text/plain": [
       "<Figure size 432x288 with 1 Axes>"
      ]
     },
     "metadata": {},
     "output_type": "display_data"
    }
   ],
   "source": [
    "color = ['Cyan', 'Red']\n",
    "exp = [0, 0.1]\n",
    "lab = ['Negative', 'Positive']\n",
    "\n",
    "df['Diabetes'].value_counts().plot(kind = 'pie', colors = color, title = 'Percent diagnosis', \n",
    "startangle = 90, explode = exp, shadow = True, labels = lab, autopct='%1.2f%%')\n",
    "plt.legend()\n",
    "plt.show();"
   ]
  },
  {
   "cell_type": "markdown",
   "id": "7f529126",
   "metadata": {},
   "source": [
    "The chart reveals that 92.81% are not diagnosed with diabetes and 7.19% tested positive to diabetes"
   ]
  },
  {
   "cell_type": "code",
   "execution_count": 58,
   "id": "254b00d6",
   "metadata": {},
   "outputs": [
    {
     "data": {
      "image/png": "[encoded data removed]",
      "text/plain": [
       "<Figure size 432x288 with 1 Axes>"
      ]
     },
     "metadata": {
      "needs_background": "light"
     },
     "output_type": "display_data"
    }
   ],
   "source": [
    "df.groupby(['Diabetes'])['No-show'].value_counts().plot(kind = 'bar', \n",
    "                                                        title = 'Diabetes by No-show');"
   ]
  },
  {
   "cell_type": "markdown",
   "id": "ca41d268",
   "metadata": {},
   "source": [
    "There are more patients without diabetes than there are with diabetes.\n",
    "Patients diagnosed with diabetics(1) have the have higher turn rate than those without diabetes and don't turn.\n",
    "Diabetic patients from the charts keep their appointments more non-diabetic patient"
   ]
  },
  {
   "cell_type": "code",
   "execution_count": 52,
   "id": "c6e6b098",
   "metadata": {},
   "outputs": [
    {
     "data": {
      "image/png": "[encoded data removed]",
      "text/plain": [
       "<Figure size 432x288 with 1 Axes>"
      ]
     },
     "metadata": {},
     "output_type": "display_data"
    }
   ],
   "source": [
    "color = ['Cyan', 'Red']\n",
    "exp = [0, 0.4]\n",
    "lab = ['Negative', 'Positive']\n",
    "\n",
    "df['Alcoholism'].value_counts().plot(kind = 'pie', colors = color, title = 'Percent diagnosis', \n",
    "startangle=90, explode = exp, shadow = True, labels = lab, autopct='%1.2f%%')\n",
    "plt.legend()\n",
    "plt.show();"
   ]
  },
  {
   "cell_type": "markdown",
   "id": "a7dd301a",
   "metadata": {},
   "source": [
    "Patients who are non-alcoholic are more than patients who are alcoholic"
   ]
  },
  {
   "cell_type": "code",
   "execution_count": 59,
   "id": "a3789531",
   "metadata": {},
   "outputs": [
    {
     "data": {
      "image/png": "[encoded data removed]",
      "text/plain": [
       "<Figure size 432x288 with 1 Axes>"
      ]
     },
     "metadata": {
      "needs_background": "light"
     },
     "output_type": "display_data"
    }
   ],
   "source": [
    "df.groupby(['Alcoholism'])['No-show'].value_counts().plot(kind = 'bar', \n",
    "                                                          title = 'Alcoholism by No-show');"
   ]
  },
  {
   "cell_type": "markdown",
   "id": "5f228be6",
   "metadata": {},
   "source": [
    "More of the patients are non-alcoholics with those that are alcoholics having the least number of patients who don't keep appointments"
   ]
  },
  {
   "cell_type": "code",
   "execution_count": 60,
   "id": "a31266bb",
   "metadata": {},
   "outputs": [
    {
     "data": {
      "image/png": "[encoded data removed]",
      "text/plain": [
       "<Figure size 432x288 with 1 Axes>"
      ]
     },
     "metadata": {
      "needs_background": "light"
     },
     "output_type": "display_data"
    }
   ],
   "source": [
    "df.groupby(['Handcap'])['No-show'].value_counts().plot(kind = 'bar', \n",
    "                                                       title = 'Handcap by No-show');"
   ]
  },
  {
   "cell_type": "markdown",
   "id": "d0cbe6e8",
   "metadata": {},
   "source": []
  },
  {
   "cell_type": "code",
   "execution_count": 45,
   "id": "b70b8b16",
   "metadata": {},
   "outputs": [
    {
     "data": {
      "text/plain": [
       "0    108286\n",
       "1      2042\n",
       "2       183\n",
       "3        13\n",
       "4         3\n",
       "Name: Handcap, dtype: int64"
      ]
     },
     "execution_count": 45,
     "metadata": {},
     "output_type": "execute_result"
    }
   ],
   "source": [
    "df['Handcap'].value_counts()"
   ]
  },
  {
   "cell_type": "code",
   "execution_count": 61,
   "id": "5aefa5c5",
   "metadata": {},
   "outputs": [
    {
     "data": {
      "image/png": "[encoded data removed]",
      "text/plain": [
       "<Figure size 432x288 with 1 Axes>"
      ]
     },
     "metadata": {
      "needs_background": "light"
     },
     "output_type": "display_data"
    }
   ],
   "source": [
    "df['Handcap'].value_counts().plot(kind = 'bar', title = 'Handcap count');"
   ]
  },
  {
   "cell_type": "markdown",
   "id": "c808223f",
   "metadata": {},
   "source": [
    "### Conclusions:\n",
    "From the above Exploratory Data Analysis, the following conclusions can be drawn:\n",
    " * Patients can be encouraged to keep their appointments by sending them SMS, since those that received SMS have greater turn out than those who didn't receive didn't SMS\n",
    " * With an increase scholarship there will likely be an increase in number of patients who keep their appointments as a grater number who don't keep appointments are not receipts of the Brasilian scholarship"
   ]
  },
  {
   "cell_type": "markdown",
   "id": "53badcc8",
   "metadata": {},
   "source": [
    "#### Limitations:\n",
    "1. One important feature I'd have loved to evaluate is the proximity to the hospital as the this is not given in the dataset. Although location is included but it does not tell how close the location is to the hospital\n",
    "2. Another major limitation to appointment is funds, for this particular variable, I'd performed a statistical analysis to ascertain if hospital bills has an effect on why patients will keep an appointment or not.\n",
    "3. More informing variables such access to health facilities, hospital bills or health insurance plans or scheme are not included, thus much insights and thus a more concrete conclusion can't be arrived at."
   ]
  },
  {
   "cell_type": "code",
   "execution_count": null,
   "id": "b9af6212",
   "metadata": {},
   "outputs": [],
   "source": []
  }
 ],
 "metadata": {
  "kernelspec": {
   "display_name": "Python 3",
   "language": "python",
   "name": "python3"
  },
  "language_info": {
   "codemirror_mode": {
    "name": "ipython",
    "version": 3
   },
   "file_extension": ".py",
   "mimetype": "text/x-python",
   "name": "python",
   "nbconvert_exporter": "python",
   "pygments_lexer": "ipython3",
   "version": "3.8.8"
  }
 },
 "nbformat": 4,
 "nbformat_minor": 5
}
